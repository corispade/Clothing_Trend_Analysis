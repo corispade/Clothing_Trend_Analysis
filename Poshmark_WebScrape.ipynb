{
 "cells": [
  {
   "cell_type": "markdown",
   "id": "debfea2d",
   "metadata": {},
   "source": [
    "## Web Scraping from Poshmark\n",
    "\n",
    "Using Splinter, Beautiful Soup, and Chrome Driver to scrape selling data from Poshmark.\n",
    "\n",
    "Gathering information on category, brand, size, price, date (need to find this), description, whether new with tags or not, number of likes and building a DataFrame."
   ]
  },
  {
   "cell_type": "code",
   "execution_count": 1,
   "id": "6ecb2700",
   "metadata": {},
   "outputs": [],
   "source": [
    "# Import dependecies\n",
    "from requests import get\n",
    "from datetime import datetime, timedelta\n",
    "from splinter import Browser\n",
    "from bs4 import BeautifulSoup as soup\n",
    "from webdriver_manager.chrome import ChromeDriverManager\n",
    "\n",
    "# Import pandas\n",
    "import pandas as pd"
   ]
  },
  {
   "cell_type": "code",
   "execution_count": 2,
   "id": "9386c887",
   "metadata": {},
   "outputs": [
    {
     "name": "stderr",
     "output_type": "stream",
     "text": [
      "\n",
      "\n",
      "====== WebDriver manager ======\n",
      "Current google-chrome version is 96.0.4664\n",
      "Get LATEST driver version for 96.0.4664\n",
      "Get LATEST driver version for 96.0.4664\n",
      "Trying to download new driver from https://chromedriver.storage.googleapis.com/96.0.4664.45/chromedriver_mac64.zip\n",
      "Driver has been saved in cache [/Users/corispade/.wdm/drivers/chromedriver/mac64/96.0.4664.45]\n"
     ]
    }
   ],
   "source": [
    "# Set up the executable path\n",
    "executable_path = {'executable_path': ChromeDriverManager().install()}\n",
    "browser = Browser('chrome', **executable_path, headless=False)"
   ]
  },
  {
   "cell_type": "code",
   "execution_count": 3,
   "id": "88199625",
   "metadata": {},
   "outputs": [],
   "source": [
    "# Visit the Poshmark site for \"SOLD WOMENS DRESSES\"\n",
    "url = 'https://poshmark.com/category/Women-Dresses?availability=sold_out'\n",
    "browser.visit(url)"
   ]
  },
  {
   "cell_type": "code",
   "execution_count": 4,
   "id": "403893d1",
   "metadata": {},
   "outputs": [],
   "source": [
    "# Clink on thumbnail\n",
    "thumb_img = browser.links.find_by_partial_href('listing')[1]\n",
    "thumb_img.click()"
   ]
  },
  {
   "cell_type": "code",
   "execution_count": 5,
   "id": "54fa6ac7",
   "metadata": {},
   "outputs": [],
   "source": [
    "# Parse the html with soup\n",
    "html = browser.html\n",
    "img_soup = soup(html, 'html.parser')"
   ]
  },
  {
   "cell_type": "code",
   "execution_count": 84,
   "id": "512766e8",
   "metadata": {},
   "outputs": [],
   "source": [
    "# Select parent element\n",
    "#parent_elem = img_soup.select_one('div.listing__layout-grid listing__layout-item listing__info col-x24 col-m12')\n"
   ]
  },
  {
   "cell_type": "code",
   "execution_count": 7,
   "id": "b4eb0b0c",
   "metadata": {},
   "outputs": [
    {
     "ename": "TypeError",
     "evalue": "'NoneType' object is not iterable",
     "output_type": "error",
     "traceback": [
      "\u001b[0;31m---------------------------------------------------------------------------\u001b[0m",
      "\u001b[0;31mTypeError\u001b[0m                                 Traceback (most recent call last)",
      "\u001b[0;32m<ipython-input-7-bf49c0a63265>\u001b[0m in \u001b[0;36m<module>\u001b[0;34m\u001b[0m\n\u001b[1;32m      2\u001b[0m \u001b[0mfind_brand\u001b[0m \u001b[0;34m=\u001b[0m \u001b[0mimg_soup\u001b[0m\u001b[0;34m.\u001b[0m\u001b[0mfind\u001b[0m\u001b[0;34m(\u001b[0m\u001b[0;34m'div'\u001b[0m\u001b[0;34m,\u001b[0m \u001b[0mclass_\u001b[0m\u001b[0;34m=\u001b[0m\u001b[0;34m'listing__brand listing__ipad-centered d--fl m--t--2'\u001b[0m\u001b[0;34m)\u001b[0m\u001b[0;34m\u001b[0m\u001b[0;34m\u001b[0m\u001b[0m\n\u001b[1;32m      3\u001b[0m \u001b[0;34m\u001b[0m\u001b[0m\n\u001b[0;32m----> 4\u001b[0;31m \u001b[0;32mfor\u001b[0m \u001b[0mbrands\u001b[0m \u001b[0;32min\u001b[0m \u001b[0mfind_brand\u001b[0m\u001b[0;34m:\u001b[0m\u001b[0;34m\u001b[0m\u001b[0;34m\u001b[0m\u001b[0m\n\u001b[0m\u001b[1;32m      5\u001b[0m     \u001b[0mbrand\u001b[0m \u001b[0;34m=\u001b[0m \u001b[0mbrands\u001b[0m\u001b[0;34m.\u001b[0m\u001b[0mtext\u001b[0m\u001b[0;34m\u001b[0m\u001b[0;34m\u001b[0m\u001b[0m\n\u001b[1;32m      6\u001b[0m     \u001b[0mprint\u001b[0m\u001b[0;34m(\u001b[0m\u001b[0mbrand\u001b[0m\u001b[0;34m)\u001b[0m\u001b[0;34m\u001b[0m\u001b[0;34m\u001b[0m\u001b[0m\n",
      "\u001b[0;31mTypeError\u001b[0m: 'NoneType' object is not iterable"
     ]
    }
   ],
   "source": [
    "# Find Brand\n",
    "find_brand = img_soup.find('div', class_='listing__brand listing__ipad-centered d--fl m--t--2')\n",
    "\n",
    "for brands in find_brand: \n",
    "    brand = brands.text\n",
    "    print(brand)"
   ]
  },
  {
   "cell_type": "code",
   "execution_count": null,
   "id": "8c6de961",
   "metadata": {},
   "outputs": [],
   "source": [
    "# Find Size\n"
   ]
  },
  {
   "cell_type": "code",
   "execution_count": null,
   "id": "7c8c50b8",
   "metadata": {},
   "outputs": [],
   "source": [
    "# Find Price\n"
   ]
  },
  {
   "cell_type": "code",
   "execution_count": null,
   "id": "dccb6c67",
   "metadata": {},
   "outputs": [],
   "source": [
    "# Find Category\n"
   ]
  },
  {
   "cell_type": "code",
   "execution_count": null,
   "id": "df71ff0a",
   "metadata": {},
   "outputs": [],
   "source": [
    "# Find Color\n"
   ]
  },
  {
   "cell_type": "code",
   "execution_count": null,
   "id": "887bbaaf",
   "metadata": {},
   "outputs": [],
   "source": [
    "# Find Style Tags\n"
   ]
  },
  {
   "cell_type": "code",
   "execution_count": null,
   "id": "9d87a37f",
   "metadata": {},
   "outputs": [],
   "source": [
    "# Find New With Tags or Not\n"
   ]
  },
  {
   "cell_type": "code",
   "execution_count": null,
   "id": "1a920819",
   "metadata": {},
   "outputs": [],
   "source": [
    "# Find Number of Likes\n"
   ]
  },
  {
   "cell_type": "code",
   "execution_count": null,
   "id": "36cfde32",
   "metadata": {},
   "outputs": [],
   "source": [
    "# Find date sold - When clicking on link, indication of \"updated a minute ago\"\n"
   ]
  },
  {
   "cell_type": "code",
   "execution_count": null,
   "id": "1f3f21af",
   "metadata": {},
   "outputs": [],
   "source": []
  },
  {
   "cell_type": "code",
   "execution_count": null,
   "id": "18ec3a5a",
   "metadata": {},
   "outputs": [],
   "source": []
  },
  {
   "cell_type": "code",
   "execution_count": 36,
   "id": "c89a84c3",
   "metadata": {},
   "outputs": [],
   "source": [
    "# 5. Quit the browser\n",
    "browser.quit()"
   ]
  },
  {
   "cell_type": "code",
   "execution_count": null,
   "id": "449130c8",
   "metadata": {},
   "outputs": [],
   "source": []
  }
 ],
 "metadata": {
  "kernelspec": {
   "display_name": "PythonData",
   "language": "python",
   "name": "pythondata"
  },
  "language_info": {
   "codemirror_mode": {
    "name": "ipython",
    "version": 3
   },
   "file_extension": ".py",
   "mimetype": "text/x-python",
   "name": "python",
   "nbconvert_exporter": "python",
   "pygments_lexer": "ipython3",
   "version": "3.7.10"
  }
 },
 "nbformat": 4,
 "nbformat_minor": 5
}
