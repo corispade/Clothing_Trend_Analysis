{
 "cells": [
  {
   "cell_type": "markdown",
   "id": "debfea2d",
   "metadata": {},
   "source": [
    "## Web Scraping from Poshmark\n",
    "\n",
    "Using Splinter, Beautiful Soup, and Chrome Driver to scrape selling data from Poshmark.\n",
    "\n",
    "Gathering information on category, brand, size, price, date (need to find this), description, whether new with tags or not, number of likes and building a DataFrame."
   ]
  },
  {
   "cell_type": "code",
   "execution_count": 32,
   "id": "6ecb2700",
   "metadata": {},
   "outputs": [],
   "source": [
    "# Import dependecies\n",
    "from requests import get\n",
    "from bs4 import BeautifulSoup\n",
    "from datetime import datetime, timedelta\n",
    "from bs4 import BeautifulSoup as soup\n",
    "from webdriver_manager.chrome import ChromeDriverManager\n",
    "\n",
    "# Import pandas\n",
    "import pandas as pd"
   ]
  },
  {
   "cell_type": "code",
   "execution_count": 33,
   "id": "9386c887",
   "metadata": {},
   "outputs": [
    {
     "name": "stderr",
     "output_type": "stream",
     "text": [
      "\n",
      "\n",
      "====== WebDriver manager ======\n",
      "Current google-chrome version is 96.0.4664\n",
      "Get LATEST driver version for 96.0.4664\n",
      "Driver [/Users/corispade/.wdm/drivers/chromedriver/mac64/96.0.4664.45/chromedriver] found in cache\n"
     ]
    }
   ],
   "source": [
    "# Set up the executable path\n",
    "executable_path = {'executable_path': ChromeDriverManager().install()}\n",
    "browser = Browser('chrome', **executable_path, headless=False)"
   ]
  },
  {
   "cell_type": "code",
   "execution_count": 34,
   "id": "88199625",
   "metadata": {},
   "outputs": [],
   "source": [
    "# Visit the Poshmark site for \"SOLD WOMENS DRESSES\"\n",
    "url = 'https://poshmark.com/category/Women-Dresses?availability=sold_out'\n",
    "browser.visit(url)"
   ]
  },
  {
   "cell_type": "code",
   "execution_count": 35,
   "id": "54fa6ac7",
   "metadata": {},
   "outputs": [],
   "source": [
    "# Parse the html with soup\n",
    "html = browser.html\n",
    "img_soup = soup(html, 'html.parser')"
   ]
  },
  {
   "cell_type": "code",
   "execution_count": 26,
   "id": "95f7927f",
   "metadata": {},
   "outputs": [],
   "source": [
    "# Clink on thumbnail\n",
    "\n"
   ]
  },
  {
   "cell_type": "code",
   "execution_count": null,
   "id": "b4eb0b0c",
   "metadata": {},
   "outputs": [],
   "source": [
    "# Find brand, size, price, category, color, style tags, whether new with tags or not, number of likes\n"
   ]
  },
  {
   "cell_type": "code",
   "execution_count": null,
   "id": "36cfde32",
   "metadata": {},
   "outputs": [],
   "source": [
    "# Find date sold - When clicking on link, indication of \"updated a minute ago\"\n"
   ]
  },
  {
   "cell_type": "code",
   "execution_count": null,
   "id": "1f3f21af",
   "metadata": {},
   "outputs": [],
   "source": []
  },
  {
   "cell_type": "code",
   "execution_count": null,
   "id": "18ec3a5a",
   "metadata": {},
   "outputs": [],
   "source": []
  },
  {
   "cell_type": "code",
   "execution_count": 36,
   "id": "c89a84c3",
   "metadata": {},
   "outputs": [],
   "source": [
    "# 5. Quit the browser\n",
    "browser.quit()"
   ]
  },
  {
   "cell_type": "code",
   "execution_count": null,
   "id": "449130c8",
   "metadata": {},
   "outputs": [],
   "source": []
  }
 ],
 "metadata": {
  "kernelspec": {
   "display_name": "PythonData",
   "language": "python",
   "name": "pythondata"
  },
  "language_info": {
   "codemirror_mode": {
    "name": "ipython",
    "version": 3
   },
   "file_extension": ".py",
   "mimetype": "text/x-python",
   "name": "python",
   "nbconvert_exporter": "python",
   "pygments_lexer": "ipython3",
   "version": "3.7.10"
  }
 },
 "nbformat": 4,
 "nbformat_minor": 5
}
