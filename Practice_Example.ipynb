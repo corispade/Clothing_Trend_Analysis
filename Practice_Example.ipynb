{
 "cells": [
  {
   "cell_type": "markdown",
   "id": "e0929f4d",
   "metadata": {},
   "source": [
    "## Practice Scraping Poshmark\n",
    "\n",
    "https://www.youtube.com/watch?v=0L1uM_18TTA"
   ]
  },
  {
   "cell_type": "code",
   "execution_count": 13,
   "id": "17cd07ce",
   "metadata": {},
   "outputs": [
    {
     "name": "stdout",
     "output_type": "stream",
     "text": [
      "<!DOCTYPE html>\n",
      "<html lang=\"en\" xml:lang=\"en\" xmlns=\"http://www.w3.org/1999/xhtml\" data-vue-meta-server-rendered=\"true\" data-vue-meta=\"%7B%22lang%22:%7B%221%22:%22en%22%7D,%22xml:lang%22:%7B%221%22:%22en%22%7D,%22xmlns%22:%7B%221%22:%22http://www.w3.org/1999/xhtml%22%7D,%22data-vue-meta-server-rendered%22:%7B%221%22:true%7D%7D\">\n",
      "  <head>\n",
      "    <title>Women Dresses on Poshmark</title>\n",
      "    <meta data-vue-meta=\"1\" charset=\"utf-8\"><meta data-vue-meta=\"1\" http-equiv=\"X-UA-Compatible\" content=\"IE=edge,c\n"
     ]
    }
   ],
   "source": [
    "# Pull website and print response variable that contains html code\n",
    "from requests import get\n",
    "\n",
    "url = 'https://poshmark.com/category/Women-Dresses?availability=sold_out'\n",
    "response = get(url)\n",
    "\n",
    "# Show first 500 characters\n",
    "print(response.text[:500])"
   ]
  },
  {
   "cell_type": "code",
   "execution_count": 14,
   "id": "5d1a0819",
   "metadata": {},
   "outputs": [
    {
     "data": {
      "text/plain": [
       "bs4.BeautifulSoup"
      ]
     },
     "execution_count": 14,
     "metadata": {},
     "output_type": "execute_result"
    }
   ],
   "source": [
    "# Use Beautiful Soup to parse html\n",
    "from bs4 import BeautifulSoup as soup\n",
    "\n",
    "html_soup = soup(response.text, 'html.parser')\n",
    "type(html_soup)"
   ]
  },
  {
   "cell_type": "code",
   "execution_count": 15,
   "id": "5252b2ee",
   "metadata": {},
   "outputs": [
    {
     "name": "stdout",
     "output_type": "stream",
     "text": [
      "<class 'bs4.element.ResultSet'>\n",
      "48\n"
     ]
    }
   ],
   "source": [
    "# Use built in methods to search for repeating titles\n",
    "clothing_containers = html_soup.find_all('div', class_='tile')\n",
    "print(type(clothing_containers))\n",
    "print(len(clothing_containers))"
   ]
  },
  {
   "cell_type": "code",
   "execution_count": 16,
   "id": "0ec21719",
   "metadata": {},
   "outputs": [
    {
     "name": "stdout",
     "output_type": "stream",
     "text": [
      "<div class=\"tile col-x12 col-l6 col-s8 p--2\"><div class=\"card card--small\"><a class=\"tile__covershot\" data-et-element-type=\"image\" data-et-name=\"listing\" data-et-prop-category_id=\"00108975d97b4e80ef00a955\" data-et-prop-department_id=\"000e8975d97b4e80ef00a955\" data-et-prop-lister_id=\"5c872f6cc465687f81cc68e7\" data-et-prop-listing_id=\"61abb61360fded2ef70e02f7\" data-et-prop-location=\"listing_tile\" data-et-prop-unit_position=\"0\" href=\"/listing/TODAY-ONLY-SALETED-BAKER-POPILY-DRESS-SCARLET-RED-BODYCON-OFF-SHOULDER-DRESS-61abb61360fded2ef70e02f7\" target=\"\"><div class=\"img__container img__container--square\"><picture title=\"\"><source srcset=\"https://di2ponv0v5otw.cloudfront.net/posts/2021/12/04/61abb61360fded2ef70e02f7/s_61ac34eebcbb52797de77673.jpg\" type=\"image/jpeg\"/><img alt=\"🎄TODAY ONLY SALE🎄TED BAKER POPILY DRESS SCARLET RED BODYCON OFF SHOULDER DRESS\" class=\"ovf--h\" src=\"https://di2ponv0v5otw.cloudfront.net/posts/2021/12/04/61abb61360fded2ef70e02f7/s_61ac34eebcbb52797de77673.jpg\" title=\"\"/></picture></div><!-- --><!-- --><i class=\"icon tile__inventory-tag sold-tag\"><span class=\"inventory-tag__text\">\n",
      "    Sold\n",
      "  </span></i></a><div><div class=\"item__details\"><div class=\"title__condition__container\"><a class=\"tile__title tc--b\" data-et-element-type=\"link\" data-et-name=\"listing\" data-et-prop-category_id=\"00108975d97b4e80ef00a955\" data-et-prop-department_id=\"000e8975d97b4e80ef00a955\" data-et-prop-lister_id=\"5c872f6cc465687f81cc68e7\" data-et-prop-listing_id=\"61abb61360fded2ef70e02f7\" data-et-prop-location=\"listing_tile\" data-et-prop-unit_position=\"0\" href=\"/listing/TODAY-ONLY-SALETED-BAKER-POPILY-DRESS-SCARLET-RED-BODYCON-OFF-SHOULDER-DRESS-61abb61360fded2ef70e02f7\">\n",
      "            🎄TODAY ONLY SALE🎄TED BAKER POPILY DRESS SCARLET RED BODYCON OFF SHOULDER DRESS\n",
      "          </a><!-- --></div><div><div class=\"m--t--1\"><span class=\"p--t--1 fw--bold\">\n",
      "              $85\n",
      "            </span><span class=\"p--l--1 tc--lg td--lt\">\n",
      "              $429\n",
      "            </span></div><div class=\"d--fl m--t--1\"><a class=\"tile__details__pipe__size ellipses\" data-et-element-type=\"link\" data-et-name=\"listing\" data-et-prop-category_id=\"00108975d97b4e80ef00a955\" data-et-prop-department_id=\"000e8975d97b4e80ef00a955\" data-et-prop-lister_id=\"5c872f6cc465687f81cc68e7\" data-et-prop-listing_id=\"61abb61360fded2ef70e02f7\" data-et-prop-location=\"listing_tile\" data-et-prop-unit_position=\"0\" href=\"/category/Women-Dresses?size=10\">\n",
      "              Size: 10\n",
      "            </a><a class=\"tile__details__pipe__brand ellipses\" data-et-element-type=\"link\" data-et-name=\"listing_brand\" data-et-prop-category_id=\"00108975d97b4e80ef00a955\" data-et-prop-department_id=\"000e8975d97b4e80ef00a955\" data-et-prop-known_brand_id=\"53d96e535632a028000003db\" data-et-prop-lister_id=\"5c872f6cc465687f81cc68e7\" data-et-prop-listing_id=\"61abb61360fded2ef70e02f7\" data-et-prop-location=\"listing_tile\" data-et-prop-unit_position=\"0\" href=\"/brand/Ted_Baker\" style=\"width:calc(100% - 9ch);\">\n",
      "              Ted Baker\n",
      "            </a></div></div></div><a class=\"tile__creator d--fl\" data-et-element-type=\"link\" data-et-name=\"seller\" data-et-prop-category_id=\"00108975d97b4e80ef00a955\" data-et-prop-department_id=\"000e8975d97b4e80ef00a955\" data-et-prop-lister_id=\"5c872f6cc465687f81cc68e7\" data-et-prop-listing_id=\"61abb61360fded2ef70e02f7\" data-et-prop-location=\"listing_tile\" data-et-prop-unit_position=\"0\" href=\"/closet/kaperini\"><img alt=\"kaperini\" class=\"user-image user-image--xs\" src=\"https://di2ponv0v5otw.cloudfront.net/users/2021/09/08/13/t_6139219e0c0c96664f798bff.jpg\"/><span class=\"tc--g m--l--1 ellipses\">kaperini</span></a><div class=\"social-action-bar tile__social-actions\"><div class=\"d--fl ai--c cursor--pointer social-action-bar__action social-action-bar__like\" data-et-element-type=\"button\" data-et-name=\"like\" data-et-prop-category_id=\"00108975d97b4e80ef00a955\" data-et-prop-department_id=\"000e8975d97b4e80ef00a955\" data-et-prop-lister_id=\"5c872f6cc465687f81cc68e7\" data-et-prop-listing_id=\"61abb61360fded2ef70e02f7\" data-et-prop-unit_position=\"0\"><i class=\"icon as--c like btn__icon\"></i><!-- --><span>18</span></div><div class=\"d--fl ai--c jc--sb\"><a class=\"social-action-bar__action social-action-bar__comment\" data-et-element-type=\"button\" data-et-name=\"comment\" data-et-prop-category_id=\"00108975d97b4e80ef00a955\" data-et-prop-department_id=\"000e8975d97b4e80ef00a955\" data-et-prop-lister_id=\"5c872f6cc465687f81cc68e7\" data-et-prop-listing_id=\"61abb61360fded2ef70e02f7\" data-et-prop-unit_position=\"0\"><i class=\"icon comment-gray btn__icon\"></i><span>7</span></a><!-- --></div><div class=\"d--fl ai--c social-action-bar__action social-action-bar__share\" data-et-element-type=\"button\" data-et-name=\"share\" data-et-prop-category_id=\"00108975d97b4e80ef00a955\" data-et-prop-department_id=\"000e8975d97b4e80ef00a955\" data-et-prop-lister_id=\"5c872f6cc465687f81cc68e7\" data-et-prop-listing_id=\"61abb61360fded2ef70e02f7\" data-et-prop-unit_position=\"0\"><i class=\"icon share-gray-large\"></i><!-- --></div></div></div></div><!-- --><!-- --></div>\n"
     ]
    }
   ],
   "source": [
    "# Look at the first tile - This becomes parent block\n",
    "first_tile = clothing_containers[0]\n",
    "print(first_tile)"
   ]
  },
  {
   "cell_type": "code",
   "execution_count": 17,
   "id": "a4fb70f5",
   "metadata": {},
   "outputs": [
    {
     "name": "stdout",
     "output_type": "stream",
     "text": [
      "<div class=\"tile col-x12 col-l6 col-s8 p--2\">\n",
      " <div class=\"card card--small\">\n",
      "  <a class=\"tile__covershot\" data-et-element-type=\"image\" data-et-name=\"listing\" data-et-prop-category_id=\"00108975d97b4e80ef00a955\" data-et-prop-department_id=\"000e8975d97b4e80ef00a955\" data-et-prop-lister_id=\"5c872f6cc465687f81cc68e7\" data-et-prop-listing_id=\"61abb61360fded2ef70e02f7\" data-et-prop-location=\"listing_tile\" data-et-prop-unit_position=\"0\" href=\"/listing/TODAY-ONLY-SALETED-BAKER-POPILY-DRESS-SCARLET-RED-BODYCON-OFF-SHOULDER-DRESS-61abb61360fded2ef70e02f7\" target=\"\">\n",
      "   <div class=\"img__container img__container--square\">\n",
      "    <picture title=\"\">\n",
      "     <source srcset=\"https://di2ponv0v5otw.cloudfront.net/posts/2021/12/04/61abb61360fded2ef70e02f7/s_61ac34eebcbb52797de77673.jpg\" type=\"image/jpeg\"/>\n",
      "     <img alt=\"🎄TODAY ONLY SALE🎄TED BAKER POPILY DRESS SCARLET RED BODYCON OFF SHOULDER DRESS\" class=\"ovf--h\" src=\"https://di2ponv0v5otw.cloudfront.net/posts/2021/12/04/61abb61360fded2ef70e02f7/s_61ac34eebcbb52797de77673.jpg\" title=\"\"/>\n",
      "    </picture>\n",
      "   </div>\n",
      "   <!-- -->\n",
      "   <!-- -->\n",
      "   <i class=\"icon tile__inventory-tag sold-tag\">\n",
      "    <span class=\"inventory-tag__text\">\n",
      "     Sold\n",
      "    </span>\n",
      "   </i>\n",
      "  </a>\n",
      "  <div>\n",
      "   <div class=\"item__details\">\n",
      "    <div class=\"title__condition__container\">\n",
      "     <a class=\"tile__title tc--b\" data-et-element-type=\"link\" data-et-name=\"listing\" data-et-prop-category_id=\"00108975d97b4e80ef00a955\" data-et-prop-department_id=\"000e8975d97b4e80ef00a955\" data-et-prop-lister_id=\"5c872f6cc465687f81cc68e7\" data-et-prop-listing_id=\"61abb61360fded2ef70e02f7\" data-et-prop-location=\"listing_tile\" data-et-prop-unit_position=\"0\" href=\"/listing/TODAY-ONLY-SALETED-BAKER-POPILY-DRESS-SCARLET-RED-BODYCON-OFF-SHOULDER-DRESS-61abb61360fded2ef70e02f7\">\n",
      "      🎄TODAY ONLY SALE🎄TED BAKER POPILY DRESS SCARLET RED BODYCON OFF SHOULDER DRESS\n",
      "     </a>\n",
      "     <!-- -->\n",
      "    </div>\n",
      "    <div>\n",
      "     <div class=\"m--t--1\">\n",
      "      <span class=\"p--t--1 fw--bold\">\n",
      "       $85\n",
      "      </span>\n",
      "      <span class=\"p--l--1 tc--lg td--lt\">\n",
      "       $429\n",
      "      </span>\n",
      "     </div>\n",
      "     <div class=\"d--fl m--t--1\">\n",
      "      <a class=\"tile__details__pipe__size ellipses\" data-et-element-type=\"link\" data-et-name=\"listing\" data-et-prop-category_id=\"00108975d97b4e80ef00a955\" data-et-prop-department_id=\"000e8975d97b4e80ef00a955\" data-et-prop-lister_id=\"5c872f6cc465687f81cc68e7\" data-et-prop-listing_id=\"61abb61360fded2ef70e02f7\" data-et-prop-location=\"listing_tile\" data-et-prop-unit_position=\"0\" href=\"/category/Women-Dresses?size=10\">\n",
      "       Size: 10\n",
      "      </a>\n",
      "      <a class=\"tile__details__pipe__brand ellipses\" data-et-element-type=\"link\" data-et-name=\"listing_brand\" data-et-prop-category_id=\"00108975d97b4e80ef00a955\" data-et-prop-department_id=\"000e8975d97b4e80ef00a955\" data-et-prop-known_brand_id=\"53d96e535632a028000003db\" data-et-prop-lister_id=\"5c872f6cc465687f81cc68e7\" data-et-prop-listing_id=\"61abb61360fded2ef70e02f7\" data-et-prop-location=\"listing_tile\" data-et-prop-unit_position=\"0\" href=\"/brand/Ted_Baker\" style=\"width:calc(100% - 9ch);\">\n",
      "       Ted Baker\n",
      "      </a>\n",
      "     </div>\n",
      "    </div>\n",
      "   </div>\n",
      "   <a class=\"tile__creator d--fl\" data-et-element-type=\"link\" data-et-name=\"seller\" data-et-prop-category_id=\"00108975d97b4e80ef00a955\" data-et-prop-department_id=\"000e8975d97b4e80ef00a955\" data-et-prop-lister_id=\"5c872f6cc465687f81cc68e7\" data-et-prop-listing_id=\"61abb61360fded2ef70e02f7\" data-et-prop-location=\"listing_tile\" data-et-prop-unit_position=\"0\" href=\"/closet/kaperini\">\n",
      "    <img alt=\"kaperini\" class=\"user-image user-image--xs\" src=\"https://di2ponv0v5otw.cloudfront.net/users/2021/09/08/13/t_6139219e0c0c96664f798bff.jpg\"/>\n",
      "    <span class=\"tc--g m--l--1 ellipses\">\n",
      "     kaperini\n",
      "    </span>\n",
      "   </a>\n",
      "   <div class=\"social-action-bar tile__social-actions\">\n",
      "    <div class=\"d--fl ai--c cursor--pointer social-action-bar__action social-action-bar__like\" data-et-element-type=\"button\" data-et-name=\"like\" data-et-prop-category_id=\"00108975d97b4e80ef00a955\" data-et-prop-department_id=\"000e8975d97b4e80ef00a955\" data-et-prop-lister_id=\"5c872f6cc465687f81cc68e7\" data-et-prop-listing_id=\"61abb61360fded2ef70e02f7\" data-et-prop-unit_position=\"0\">\n",
      "     <i class=\"icon as--c like btn__icon\">\n",
      "     </i>\n",
      "     <!-- -->\n",
      "     <span>\n",
      "      18\n",
      "     </span>\n",
      "    </div>\n",
      "    <div class=\"d--fl ai--c jc--sb\">\n",
      "     <a class=\"social-action-bar__action social-action-bar__comment\" data-et-element-type=\"button\" data-et-name=\"comment\" data-et-prop-category_id=\"00108975d97b4e80ef00a955\" data-et-prop-department_id=\"000e8975d97b4e80ef00a955\" data-et-prop-lister_id=\"5c872f6cc465687f81cc68e7\" data-et-prop-listing_id=\"61abb61360fded2ef70e02f7\" data-et-prop-unit_position=\"0\">\n",
      "      <i class=\"icon comment-gray btn__icon\">\n",
      "      </i>\n",
      "      <span>\n",
      "       7\n",
      "      </span>\n",
      "     </a>\n",
      "     <!-- -->\n",
      "    </div>\n",
      "    <div class=\"d--fl ai--c social-action-bar__action social-action-bar__share\" data-et-element-type=\"button\" data-et-name=\"share\" data-et-prop-category_id=\"00108975d97b4e80ef00a955\" data-et-prop-department_id=\"000e8975d97b4e80ef00a955\" data-et-prop-lister_id=\"5c872f6cc465687f81cc68e7\" data-et-prop-listing_id=\"61abb61360fded2ef70e02f7\" data-et-prop-unit_position=\"0\">\n",
      "     <i class=\"icon share-gray-large\">\n",
      "     </i>\n",
      "     <!-- -->\n",
      "    </div>\n",
      "   </div>\n",
      "  </div>\n",
      " </div>\n",
      " <!-- -->\n",
      " <!-- -->\n",
      "</div>\n",
      "\n"
     ]
    }
   ],
   "source": [
    "# Clean up the text\n",
    "print(first_tile.prettify())"
   ]
  },
  {
   "cell_type": "markdown",
   "id": "6896ebf1",
   "metadata": {},
   "source": [
    "### Find the Title"
   ]
  },
  {
   "cell_type": "code",
   "execution_count": 27,
   "id": "d3d775fa",
   "metadata": {},
   "outputs": [
    {
     "name": "stdout",
     "output_type": "stream",
     "text": [
      "<a class=\"tile__title tc--b\" data-et-element-type=\"link\" data-et-name=\"listing\" data-et-prop-category_id=\"00108975d97b4e80ef00a955\" data-et-prop-department_id=\"000e8975d97b4e80ef00a955\" data-et-prop-lister_id=\"5c872f6cc465687f81cc68e7\" data-et-prop-listing_id=\"61abb61360fded2ef70e02f7\" data-et-prop-location=\"listing_tile\" data-et-prop-unit_position=\"0\" href=\"/listing/TODAY-ONLY-SALETED-BAKER-POPILY-DRESS-SCARLET-RED-BODYCON-OFF-SHOULDER-DRESS-61abb61360fded2ef70e02f7\">\n",
      "            🎄TODAY ONLY SALE🎄TED BAKER POPILY DRESS SCARLET RED BODYCON OFF SHOULDER DRESS\n",
      "          </a>\n"
     ]
    }
   ],
   "source": [
    "# Find Title (or Name) entire block of code\n",
    "first_title = first_tile.find('a', class_=\"tile__title tc--b\")\n",
    "print(first_title)"
   ]
  },
  {
   "cell_type": "code",
   "execution_count": 28,
   "id": "4c3ad07f",
   "metadata": {},
   "outputs": [
    {
     "name": "stdout",
     "output_type": "stream",
     "text": [
      "\n",
      "            🎄TODAY ONLY SALE🎄TED BAKER POPILY DRESS SCARLET RED BODYCON OFF SHOULDER DRESS\n",
      "          \n"
     ]
    }
   ],
   "source": [
    "# Find Title (or Name) only text\n",
    "first_title = first_tile.find('a', class_=\"tile__title tc--b\").get_text()\n",
    "print(first_title)"
   ]
  },
  {
   "cell_type": "code",
   "execution_count": 29,
   "id": "32aaf0dd",
   "metadata": {},
   "outputs": [
    {
     "name": "stdout",
     "output_type": "stream",
     "text": [
      "🎄TODAY ONLY SALE🎄TED BAKER POPILY DRESS SCARLET RED BODYCON OFF SHOULDER DRESS\n"
     ]
    }
   ],
   "source": [
    "# Find Title (or Name) only text strips formatting\n",
    "first_title = first_tile.find('a', class_=\"tile__title tc--b\").get_text(strip=True)\n",
    "print(first_title)"
   ]
  },
  {
   "cell_type": "markdown",
   "id": "47857b68",
   "metadata": {},
   "source": [
    "### Find the Price"
   ]
  },
  {
   "cell_type": "code",
   "execution_count": 30,
   "id": "bd2bb5b1",
   "metadata": {},
   "outputs": [
    {
     "name": "stdout",
     "output_type": "stream",
     "text": [
      "<span class=\"p--t--1 fw--bold\">\n",
      "              $85\n",
      "            </span>\n"
     ]
    }
   ],
   "source": [
    "# Find Price entire code block\n",
    "first_price = first_tile.find('span', class_=\"p--t--1 fw--bold\")\n",
    "print(first_price)"
   ]
  },
  {
   "cell_type": "code",
   "execution_count": 31,
   "id": "4e32b34a",
   "metadata": {},
   "outputs": [
    {
     "name": "stdout",
     "output_type": "stream",
     "text": [
      "$85\n"
     ]
    }
   ],
   "source": [
    "# Find Price text stripeed\n",
    "first_price = first_tile.find('span', class_=\"p--t--1 fw--bold\").get_text(strip=True)\n",
    "print(first_price)"
   ]
  },
  {
   "cell_type": "markdown",
   "id": "d760f234",
   "metadata": {},
   "source": [
    "### Find Size"
   ]
  },
  {
   "cell_type": "code",
   "execution_count": 32,
   "id": "2502edb5",
   "metadata": {},
   "outputs": [
    {
     "name": "stdout",
     "output_type": "stream",
     "text": [
      "Size: 10\n"
     ]
    }
   ],
   "source": [
    "# Find Size text stripeed\n",
    "first_size = first_tile.find('a', class_=\"tile__details__pipe__size ellipses\").get_text(strip=True)\n",
    "print(first_size)"
   ]
  },
  {
   "cell_type": "markdown",
   "id": "969bf054",
   "metadata": {},
   "source": [
    "### Find Brand"
   ]
  },
  {
   "cell_type": "code",
   "execution_count": 33,
   "id": "eb335171",
   "metadata": {},
   "outputs": [
    {
     "name": "stdout",
     "output_type": "stream",
     "text": [
      "Ted Baker\n"
     ]
    }
   ],
   "source": [
    "# Find Size text stripeed\n",
    "first_brand = first_tile.find('a', class_=\"tile__details__pipe__brand ellipses\").get_text(strip=True)\n",
    "print(first_brand)"
   ]
  },
  {
   "cell_type": "markdown",
   "id": "50500f73",
   "metadata": {},
   "source": [
    "### Pull URL Link"
   ]
  },
  {
   "cell_type": "code",
   "execution_count": 34,
   "id": "2c217e1d",
   "metadata": {},
   "outputs": [
    {
     "name": "stdout",
     "output_type": "stream",
     "text": [
      "/listing/TODAY-ONLY-SALETED-BAKER-POPILY-DRESS-SCARLET-RED-BODYCON-OFF-SHOULDER-DRESS-61abb61360fded2ef70e02f7\n"
     ]
    }
   ],
   "source": [
    "# Get the link\n",
    "first_link = first_tile.find('a', class_=\"tile__title tc--b\").get('href')\n",
    "print(first_link)"
   ]
  },
  {
   "cell_type": "code",
   "execution_count": 35,
   "id": "3c49f05b",
   "metadata": {},
   "outputs": [
    {
     "name": "stdout",
     "output_type": "stream",
     "text": [
      "http://poshmark.com/listing/TODAY-ONLY-SALETED-BAKER-POPILY-DRESS-SCARLET-RED-BODYCON-OFF-SHOULDER-DRESS-61abb61360fded2ef70e02f7\n"
     ]
    }
   ],
   "source": [
    "# Put link together with full website url\n",
    "first_link = \"http://poshmark.com\" + first_tile.find('a', class_=\"tile__title tc--b\").get('href')\n",
    "print(first_link)"
   ]
  },
  {
   "cell_type": "markdown",
   "id": "3e321488",
   "metadata": {},
   "source": [
    "### Pull Image URL"
   ]
  },
  {
   "cell_type": "code",
   "execution_count": 36,
   "id": "2bc3e71c",
   "metadata": {},
   "outputs": [
    {
     "name": "stdout",
     "output_type": "stream",
     "text": [
      "<img alt=\"🎄TODAY ONLY SALE🎄TED BAKER POPILY DRESS SCARLET RED BODYCON OFF SHOULDER DRESS\" class=\"ovf--h\" src=\"https://di2ponv0v5otw.cloudfront.net/posts/2021/12/04/61abb61360fded2ef70e02f7/s_61ac34eebcbb52797de77673.jpg\" title=\"\"/>\n"
     ]
    }
   ],
   "source": [
    "# Pull code block for image\n",
    "first_img = first_tile.find('img')\n",
    "print(first_img)"
   ]
  },
  {
   "cell_type": "code",
   "execution_count": 37,
   "id": "67ec79d4",
   "metadata": {},
   "outputs": [
    {
     "name": "stdout",
     "output_type": "stream",
     "text": [
      "https://di2ponv0v5otw.cloudfront.net/posts/2021/12/04/61abb61360fded2ef70e02f7/s_61ac34eebcbb52797de77673.jpg\n"
     ]
    }
   ],
   "source": [
    "# Pull image link only from code block\n",
    "first_img = first_tile.find('img').get('src')\n",
    "print(first_img)"
   ]
  },
  {
   "cell_type": "markdown",
   "id": "9c6d9554",
   "metadata": {},
   "source": [
    "## Present Findings of First Listing"
   ]
  },
  {
   "cell_type": "code",
   "execution_count": 38,
   "id": "10881d2c",
   "metadata": {},
   "outputs": [
    {
     "name": "stdout",
     "output_type": "stream",
     "text": [
      "Title: 🎄TODAY ONLY SALE🎄TED BAKER POPILY DRESS SCARLET RED BODYCON OFF SHOULDER DRESS\n",
      "Price: $85\n",
      "Size: Size: 10\n",
      "Brand: Ted Baker\n",
      "Link: http://poshmark.com/listing/TODAY-ONLY-SALETED-BAKER-POPILY-DRESS-SCARLET-RED-BODYCON-OFF-SHOULDER-DRESS-61abb61360fded2ef70e02f7\n",
      "Image: https://di2ponv0v5otw.cloudfront.net/posts/2021/12/04/61abb61360fded2ef70e02f7/s_61ac34eebcbb52797de77673.jpg\n"
     ]
    }
   ],
   "source": [
    "print('Title:', first_title)\n",
    "print('Price:', first_price)\n",
    "print('Size:', first_size)\n",
    "print('Brand:', first_brand)\n",
    "print('Link:', first_link)\n",
    "print('Image:', first_img)"
   ]
  },
  {
   "cell_type": "code",
   "execution_count": 39,
   "id": "7dffc4cc",
   "metadata": {},
   "outputs": [
    {
     "name": "stdout",
     "output_type": "stream",
     "text": [
      "<class 'str'>\n",
      "85\n"
     ]
    }
   ],
   "source": [
    "# Clean up price\n",
    "fixed_price = first_price.replace('$', '')\n",
    "print(type(fixed_price))\n",
    "print(fixed_price)"
   ]
  },
  {
   "cell_type": "code",
   "execution_count": 40,
   "id": "cc9b1113",
   "metadata": {},
   "outputs": [
    {
     "name": "stdout",
     "output_type": "stream",
     "text": [
      "<class 'int'>\n",
      "85\n"
     ]
    }
   ],
   "source": [
    "# Change price to int\n",
    "fixed_price = int(first_price.replace('$', ''))\n",
    "print(type(fixed_price))\n",
    "print(fixed_price)"
   ]
  },
  {
   "cell_type": "code",
   "execution_count": 41,
   "id": "01295d3c",
   "metadata": {},
   "outputs": [
    {
     "name": "stdout",
     "output_type": "stream",
     "text": [
      "<class 'str'>\n",
      " 10\n"
     ]
    }
   ],
   "source": [
    "# Clean up size\n",
    "fixed_size = first_size.replace('Size:', '')\n",
    "print(type(fixed_size))\n",
    "print(fixed_size)"
   ]
  },
  {
   "cell_type": "code",
   "execution_count": 42,
   "id": "d34111a4",
   "metadata": {},
   "outputs": [
    {
     "name": "stdout",
     "output_type": "stream",
     "text": [
      "<class 'int'>\n",
      "10\n"
     ]
    }
   ],
   "source": [
    "# Change size to int\n",
    "fixed_size = int(first_size.replace('Size:', ''))\n",
    "print(type(fixed_size))\n",
    "print(fixed_size)"
   ]
  },
  {
   "cell_type": "code",
   "execution_count": 43,
   "id": "a1efa48f",
   "metadata": {},
   "outputs": [
    {
     "name": "stdout",
     "output_type": "stream",
     "text": [
      "Title: 🎄TODAY ONLY SALE🎄TED BAKER POPILY DRESS SCARLET RED BODYCON OFF SHOULDER DRESS\n",
      "Price: 85\n",
      "Size: 10\n",
      "Brand: Ted Baker\n",
      "Link: http://poshmark.com/listing/TODAY-ONLY-SALETED-BAKER-POPILY-DRESS-SCARLET-RED-BODYCON-OFF-SHOULDER-DRESS-61abb61360fded2ef70e02f7\n",
      "Image: https://di2ponv0v5otw.cloudfront.net/posts/2021/12/04/61abb61360fded2ef70e02f7/s_61ac34eebcbb52797de77673.jpg\n"
     ]
    }
   ],
   "source": [
    "print('Title:', first_title)\n",
    "print('Price:', fixed_price)\n",
    "print('Size:', fixed_size)\n",
    "print('Brand:', first_brand)\n",
    "print('Link:', first_link)\n",
    "print('Image:', first_img)"
   ]
  },
  {
   "cell_type": "markdown",
   "id": "c5387386",
   "metadata": {},
   "source": [
    "## Extracting Post Date"
   ]
  },
  {
   "cell_type": "code",
   "execution_count": 44,
   "id": "4e422502",
   "metadata": {},
   "outputs": [
    {
     "name": "stdout",
     "output_type": "stream",
     "text": [
      "43\n"
     ]
    }
   ],
   "source": [
    "# Find the index value (what number the character is in the order of the link)\n",
    "start_idx = first_img.find('2021')\n",
    "print(start_idx)"
   ]
  },
  {
   "cell_type": "code",
   "execution_count": 46,
   "id": "ddc9b4a6",
   "metadata": {},
   "outputs": [
    {
     "name": "stdout",
     "output_type": "stream",
     "text": [
      "2021/12/04\n"
     ]
    }
   ],
   "source": [
    "# Pull the whole date form the string\n",
    "end_idx = start_idx + 10\n",
    "raw_date = first_img[start_idx:end_idx]\n",
    "print(raw_date)"
   ]
  },
  {
   "cell_type": "code",
   "execution_count": 48,
   "id": "aa5be4a0",
   "metadata": {},
   "outputs": [
    {
     "name": "stdout",
     "output_type": "stream",
     "text": [
      "2021-12-04 00:00:00\n"
     ]
    }
   ],
   "source": [
    "# Use parser to find actual date\n",
    "from dateutil.parser import parse\n",
    "\n",
    "first_date = parse(raw_date)\n",
    "print(first_date)"
   ]
  },
  {
   "cell_type": "code",
   "execution_count": 49,
   "id": "ee57b0b0",
   "metadata": {},
   "outputs": [
    {
     "name": "stdout",
     "output_type": "stream",
     "text": [
      "10\n"
     ]
    }
   ],
   "source": [
    "# Find days since posting\n",
    "from datetime import datetime\n",
    "\n",
    "now = datetime.now()\n",
    "diff = abs((first_date-now).days)\n",
    "print(diff)"
   ]
  },
  {
   "cell_type": "markdown",
   "id": "bbd245a3",
   "metadata": {},
   "source": [
    "## Refactor Code and Build Functions"
   ]
  },
  {
   "cell_type": "code",
   "execution_count": 90,
   "id": "0a83df86",
   "metadata": {},
   "outputs": [],
   "source": [
    "from dateutil.parser import parse\n",
    "from datetime import datetime\n",
    "\n",
    "def download_page(url):\n",
    "    \"Download HTML source for a given URL\"\n",
    "    response = get(url)\n",
    "    return response\n",
    "\n",
    "def create_soup(source):\n",
    "    \"Convert HTML source to BeautifulSoup object\"\n",
    "    html_soup = soup(response.text, 'html.parser')\n",
    "    return html_soup\n",
    "\n",
    "def extract_tiles(soup):\n",
    "    \"Extract all clothing tile elements\"\n",
    "    containers = html_soup.find_all('div', class_='tile')\n",
    "    return containers\n",
    "\n",
    "def extract_title(tile):\n",
    "    \"Extract the title string from a tile\"\n",
    "    title = tile.find('a', class_=\"tile__title tc--b\").get_text(strip=True)\n",
    "    return title\n",
    "\n",
    "def extract_price(tile):\n",
    "    \"Extract the price integer from a tile\"\n",
    "    price_string = tile.find('span', class_=\"p--t--1 fw--bold\").get_text(strip=True)\n",
    "    price = int(price_string.replace('$', ''))\n",
    "    return price\n",
    "\n",
    "def extract_size(tile):\n",
    "    \"Extract the size integer from a tile\"\n",
    "    size_string = tile.find('a', class_=\"tile__details__pipe__size ellipses\").get_text(strip=True)\n",
    "    size = int(size_string.replace('Size:', ''))\n",
    "    return size\n",
    "\n",
    "def extract_brand(tile):\n",
    "    \"Extract the brand string from a tile\"\n",
    "    brand = tile.find('a', class_=\"tile__details__pipe__brand ellipses\").get_text(strip=True)\n",
    "    return brand\n",
    "\n",
    "def extract_link(tile):\n",
    "    \"Extract the url link from a tile\"\n",
    "    link = \"http://poshmark.com\" + tile.find('a', class_=\"tile__title tc--b\").get('href')\n",
    "    return link\n",
    "\n",
    "def extract_image(tile):\n",
    "    \"Extract the image link from a tile\"\n",
    "    image = tile.find('img').get('src')\n",
    "    return image\n",
    "\n",
    "def extract_date(url):\n",
    "    \"Find date an item was listed from url\"\n",
    "    start = url.find('20')\n",
    "    end = start + 10\n",
    "    raw_date = url[start:end]\n",
    "    date = parse(raw_date)\n",
    "    return date\n",
    "    \n",
    "def find_difference(date):\n",
    "    \"Find amount of days an item has been listed from the date\"\n",
    "    now = datetime.now()\n",
    "    diff = abs((date-now).days)\n",
    "    return diff"
   ]
  },
  {
   "cell_type": "code",
   "execution_count": 103,
   "id": "da2d57b5",
   "metadata": {},
   "outputs": [],
   "source": [
    "def combine_data(tile):\n",
    "    \"Run independent functions and return object of all values\"\n",
    "    try:\n",
    "        title = extract_title(tile)\n",
    "    except:\n",
    "        title = ''\n",
    "        \n",
    "    try:\n",
    "        price = extract_price(tile)\n",
    "    except:\n",
    "        price = ''\n",
    "        \n",
    "    try:\n",
    "        size = extract_size(tile)\n",
    "    except:\n",
    "        size = ''\n",
    "        \n",
    "    try:\n",
    "        brand = extract_brand(tile)\n",
    "    except:\n",
    "        brand = ''\n",
    "        \n",
    "    try:\n",
    "        link = extract_link(tile)\n",
    "    except:\n",
    "        link = ''\n",
    "        \n",
    "    try:\n",
    "        image = extract_image(tile)\n",
    "    except:\n",
    "        image = ''\n",
    "        \n",
    "    try:\n",
    "        date = extract_date(image)\n",
    "        difference = find_difference(date)\n",
    "    except:\n",
    "        date = ''\n",
    "        difference = ''\n",
    "        \n",
    "    return (\n",
    "            \"Title:\", title,\n",
    "            \"Price:\", price,\n",
    "            \"Size:\", size,\n",
    "            \"Brand:\", brand,\n",
    "            \"Link:\", link,\n",
    "            \"Image:\", image,\n",
    "            \"Date Posted:\", date,\n",
    "            \"Days Listed:\", difference\n",
    "    )"
   ]
  },
  {
   "cell_type": "markdown",
   "id": "d28149a0",
   "metadata": {},
   "source": [
    "## Extract all Tiles from Initial Page"
   ]
  },
  {
   "cell_type": "code",
   "execution_count": 104,
   "id": "b2e0b8b4",
   "metadata": {},
   "outputs": [],
   "source": [
    "url = 'https://poshmark.com/category/Women-Dresses?availability=sold_out'\n",
    "\n",
    "page = download_page(url)\n",
    "soup_obj = create_soup(page)\n",
    "item_tiles = extract_tiles(soup_obj)\n",
    "item_objs = [combine_data(tile) for tile in item_tiles]"
   ]
  },
  {
   "cell_type": "code",
   "execution_count": 105,
   "id": "6ad5069a",
   "metadata": {},
   "outputs": [],
   "source": [
    "#item_objs is a list comprehension of below:\n",
    "\n",
    "#item_objs = []\n",
    "\n",
    "#for tiles in item_tiles:\n",
    "     #val = combine_data(tile)\n",
    "     #item_objs.append(val)"
   ]
  },
  {
   "cell_type": "code",
   "execution_count": 106,
   "id": "8a45080a",
   "metadata": {},
   "outputs": [
    {
     "name": "stdout",
     "output_type": "stream",
     "text": [
      "48\n"
     ]
    }
   ],
   "source": [
    "print(len(item_objs))"
   ]
  },
  {
   "cell_type": "code",
   "execution_count": 107,
   "id": "1c1dbcb7",
   "metadata": {},
   "outputs": [
    {
     "name": "stdout",
     "output_type": "stream",
     "text": [
      "('Title:', '🎄TODAY ONLY SALE🎄TED BAKER POPILY DRESS SCARLET RED BODYCON OFF SHOULDER DRESS', 'Price:', 85, 'Size:', 10, 'Brand:', 'Ted Baker', 'Link:', 'http://poshmark.com/listing/TODAY-ONLY-SALETED-BAKER-POPILY-DRESS-SCARLET-RED-BODYCON-OFF-SHOULDER-DRESS-61abb61360fded2ef70e02f7', 'Image:', 'https://di2ponv0v5otw.cloudfront.net/posts/2021/12/04/61abb61360fded2ef70e02f7/s_61ac34eebcbb52797de77673.jpg', 'Date Posted:', datetime.datetime(2021, 12, 4, 0, 0), 'Days Listed:', 10)\n",
      "------------\n",
      "('Title:', 'Show Me Your Mumu Hacienda White XL Maxi Dress NWT', 'Price:', 79, 'Size:', '', 'Brand:', 'Show Me Your MuMu', 'Link:', 'http://poshmark.com/listing/Show-Me-Your-Mumu-Hacienda-White-XL-Maxi-Dress-NWT-605e42c281a36cfead6fe828', 'Image:', None, 'Date Posted:', '', 'Days Listed:', '')\n"
     ]
    }
   ],
   "source": [
    "print(item_objs[0])\n",
    "print('------------')\n",
    "print(item_objs[45])"
   ]
  },
  {
   "cell_type": "code",
   "execution_count": 108,
   "id": "725657c5",
   "metadata": {},
   "outputs": [
    {
     "name": "stdout",
     "output_type": "stream",
     "text": [
      "('Title:',\n",
      " '🎄TODAY ONLY SALE🎄TED BAKER POPILY DRESS SCARLET RED BODYCON OFF SHOULDER '\n",
      " 'DRESS',\n",
      " 'Price:',\n",
      " 85,\n",
      " 'Size:',\n",
      " 10,\n",
      " 'Brand:',\n",
      " 'Ted Baker',\n",
      " 'Link:',\n",
      " 'http://poshmark.com/listing/TODAY-ONLY-SALETED-BAKER-POPILY-DRESS-SCARLET-RED-BODYCON-OFF-SHOULDER-DRESS-61abb61360fded2ef70e02f7',\n",
      " 'Image:',\n",
      " 'https://di2ponv0v5otw.cloudfront.net/posts/2021/12/04/61abb61360fded2ef70e02f7/s_61ac34eebcbb52797de77673.jpg',\n",
      " 'Date Posted:',\n",
      " datetime.datetime(2021, 12, 4, 0, 0),\n",
      " 'Days Listed:',\n",
      " 10)\n"
     ]
    }
   ],
   "source": [
    "from pprint import pprint\n",
    "\n",
    "pprint(item_objs[0])"
   ]
  },
  {
   "cell_type": "code",
   "execution_count": null,
   "id": "a7327149",
   "metadata": {},
   "outputs": [],
   "source": []
  }
 ],
 "metadata": {
  "kernelspec": {
   "display_name": "PythonData",
   "language": "python",
   "name": "pythondata"
  },
  "language_info": {
   "codemirror_mode": {
    "name": "ipython",
    "version": 3
   },
   "file_extension": ".py",
   "mimetype": "text/x-python",
   "name": "python",
   "nbconvert_exporter": "python",
   "pygments_lexer": "ipython3",
   "version": "3.7.10"
  }
 },
 "nbformat": 4,
 "nbformat_minor": 5
}
